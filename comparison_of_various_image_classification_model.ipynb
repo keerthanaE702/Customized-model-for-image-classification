{
 "cells": [
  {
   "cell_type": "code",
   "execution_count": 77,
   "metadata": {
    "id": "VhBBNgz7UskK"
   },
   "outputs": [],
   "source": [
    "# Importing the libraries\n",
    "import tensorflow as tf\n",
    "import matplotlib.pyplot as plt\n",
    "import pandas as pd \n",
    "import numpy as np\n",
    "\n",
    "\n",
    "from tensorflow.keras.models import Model\n",
    "from tensorflow.keras.layers import Dense, Activation, Conv2D, MaxPool2D, Flatten, Dropout\n",
    "\n",
    "\n",
    "import os \n",
    "import zipfile\n",
    "\n",
    "from tensorflow.keras.preprocessing.image import ImageDataGenerator"
   ]
  },
  {
   "cell_type": "code",
   "execution_count": 2,
   "metadata": {
    "colab": {
     "base_uri": "https://localhost:8080/"
    },
    "id": "kWeNtoMIZt0L",
    "outputId": "3c48675d-cdb9-44ec-ff96-6b4c52a6784f"
   },
   "outputs": [
    {
     "name": "stdout",
     "output_type": "stream",
     "text": [
      "--2022-09-27 03:46:39--  https://storage.googleapis.com/mledu-datasets/cats_and_dogs_filtered.zip\n",
      "Resolving storage.googleapis.com (storage.googleapis.com)... 173.194.192.128, 172.217.219.128, 209.85.146.128, ...\n",
      "Connecting to storage.googleapis.com (storage.googleapis.com)|173.194.192.128|:443... connected.\n",
      "HTTP request sent, awaiting response... 200 OK\n",
      "Length: 68606236 (65M) [application/zip]\n",
      "Saving to: ‘/cats_and_dogs_filtered.zip’\n",
      "\n",
      "/cats_and_dogs_filt 100%[===================>]  65.43M   185MB/s    in 0.4s    \n",
      "\n",
      "2022-09-27 03:46:40 (185 MB/s) - ‘/cats_and_dogs_filtered.zip’ saved [68606236/68606236]\n",
      "\n"
     ]
    }
   ],
   "source": [
    "#downloading the data\n",
    "!wget --no-check-certificate \\\n",
    "    https://storage.googleapis.com/mledu-datasets/cats_and_dogs_filtered.zip \\\n",
    "    -O /cats_and_dogs_filtered.zip"
   ]
  },
  {
   "cell_type": "code",
   "execution_count": 3,
   "metadata": {
    "id": "kL7lQ2RGajvb"
   },
   "outputs": [],
   "source": [
    "# Unzipping the data\n",
    "dataset_path = \"/cats_and_dogs_filtered.zip\"\n",
    "\n",
    "zip_object = zipfile.ZipFile(file =dataset_path, mode=\"r\")\n",
    "\n",
    "zip_object.extractall(\"./\")\n",
    "zip_object.close()"
   ]
  },
  {
   "cell_type": "code",
   "execution_count": 4,
   "metadata": {
    "id": "uZPQr1lRbJEl"
   },
   "outputs": [],
   "source": [
    "#Creating directory\n",
    "dataset_path_new = \"/content/cats_and_dogs_filtered\"\n",
    "\n",
    "train_dir = os.path.join(dataset_path_new, \"train\")\n",
    "\n",
    "valid_dir = os.path.join(dataset_path_new, \"validation\")"
   ]
  },
  {
   "cell_type": "code",
   "execution_count": 5,
   "metadata": {
    "id": "2QjBW_NHbsx_"
   },
   "outputs": [],
   "source": [
    "# Instantiating the Image data generator\n",
    "data_gen_train = ImageDataGenerator(rescale=1/255)\n",
    "\n",
    "data_gen_valid = ImageDataGenerator(rescale=1/255)"
   ]
  },
  {
   "cell_type": "code",
   "execution_count": 6,
   "metadata": {
    "colab": {
     "base_uri": "https://localhost:8080/"
    },
    "id": "M_6eCcqbb8Hn",
    "outputId": "66f5724b-eaf1-4a4e-d511-cc5965cf8a4b"
   },
   "outputs": [
    {
     "name": "stdout",
     "output_type": "stream",
     "text": [
      "Found 2000 images belonging to 2 classes.\n",
      "Found 1000 images belonging to 2 classes.\n"
     ]
    }
   ],
   "source": [
    "#Scaling the data\n",
    "train_gen = data_gen_train.flow_from_directory(train_dir, target_size=(128,128),\n",
    "                                               batch_size = 128, class_mode = \"binary\")\n",
    "\n",
    "valid_gen = data_gen_train.flow_from_directory(valid_dir, target_size=(128,128),\n",
    "                                               batch_size = 128, class_mode = \"binary\")"
   ]
  },
  {
   "cell_type": "code",
   "execution_count": 8,
   "metadata": {
    "id": "1LeTxpuuEm0j"
   },
   "outputs": [],
   "source": []
  },
  {
   "cell_type": "code",
   "execution_count": 30,
   "metadata": {
    "id": "FDwxDGPGcRWK"
   },
   "outputs": [],
   "source": [
    "# Building the body of the model Using VGG19\n",
    "base_model = tf.keras.applications.VGG19(input_shape=(128,128,3), weights=\"imagenet\", include_top=False)\n",
    "\n",
    "#freaaxing the layer\n",
    "for layer in base_model.layers:\n",
    "  layer.trainable= False"
   ]
  },
  {
   "cell_type": "code",
   "execution_count": 31,
   "metadata": {
    "colab": {
     "base_uri": "https://localhost:8080/"
    },
    "id": "ZmbwIhuJr7G9",
    "outputId": "7a4e0e7c-9114-4bee-be99-aca218784526"
   },
   "outputs": [
    {
     "name": "stdout",
     "output_type": "stream",
     "text": [
      "Model: \"vgg19\"\n",
      "_________________________________________________________________\n",
      " Layer (type)                Output Shape              Param #   \n",
      "=================================================================\n",
      " input_3 (InputLayer)        [(None, 128, 128, 3)]     0         \n",
      "                                                                 \n",
      " block1_conv1 (Conv2D)       (None, 128, 128, 64)      1792      \n",
      "                                                                 \n",
      " block1_conv2 (Conv2D)       (None, 128, 128, 64)      36928     \n",
      "                                                                 \n",
      " block1_pool (MaxPooling2D)  (None, 64, 64, 64)        0         \n",
      "                                                                 \n",
      " block2_conv1 (Conv2D)       (None, 64, 64, 128)       73856     \n",
      "                                                                 \n",
      " block2_conv2 (Conv2D)       (None, 64, 64, 128)       147584    \n",
      "                                                                 \n",
      " block2_pool (MaxPooling2D)  (None, 32, 32, 128)       0         \n",
      "                                                                 \n",
      " block3_conv1 (Conv2D)       (None, 32, 32, 256)       295168    \n",
      "                                                                 \n",
      " block3_conv2 (Conv2D)       (None, 32, 32, 256)       590080    \n",
      "                                                                 \n",
      " block3_conv3 (Conv2D)       (None, 32, 32, 256)       590080    \n",
      "                                                                 \n",
      " block3_conv4 (Conv2D)       (None, 32, 32, 256)       590080    \n",
      "                                                                 \n",
      " block3_pool (MaxPooling2D)  (None, 16, 16, 256)       0         \n",
      "                                                                 \n",
      " block4_conv1 (Conv2D)       (None, 16, 16, 512)       1180160   \n",
      "                                                                 \n",
      " block4_conv2 (Conv2D)       (None, 16, 16, 512)       2359808   \n",
      "                                                                 \n",
      " block4_conv3 (Conv2D)       (None, 16, 16, 512)       2359808   \n",
      "                                                                 \n",
      " block4_conv4 (Conv2D)       (None, 16, 16, 512)       2359808   \n",
      "                                                                 \n",
      " block4_pool (MaxPooling2D)  (None, 8, 8, 512)         0         \n",
      "                                                                 \n",
      " block5_conv1 (Conv2D)       (None, 8, 8, 512)         2359808   \n",
      "                                                                 \n",
      " block5_conv2 (Conv2D)       (None, 8, 8, 512)         2359808   \n",
      "                                                                 \n",
      " block5_conv3 (Conv2D)       (None, 8, 8, 512)         2359808   \n",
      "                                                                 \n",
      " block5_conv4 (Conv2D)       (None, 8, 8, 512)         2359808   \n",
      "                                                                 \n",
      " block5_pool (MaxPooling2D)  (None, 4, 4, 512)         0         \n",
      "                                                                 \n",
      "=================================================================\n",
      "Total params: 20,024,384\n",
      "Trainable params: 0\n",
      "Non-trainable params: 20,024,384\n",
      "_________________________________________________________________\n"
     ]
    }
   ],
   "source": [
    "base_model.summary()"
   ]
  },
  {
   "cell_type": "code",
   "execution_count": 46,
   "metadata": {
    "id": "YBT0dmIFcyB9"
   },
   "outputs": [],
   "source": [
    "#Creating the Head of the model\n",
    "model = Flatten()(base_model.output)\n",
    "\n",
    "model = Dense(units=1024, activation=\"relu\")(model)\n",
    "model = Dense(units=200, activation=\"relu\")(model)\n",
    "\n",
    "prediction_layer = Dense(units=2, activation=\"softmax\")(model)"
   ]
  },
  {
   "cell_type": "code",
   "execution_count": 47,
   "metadata": {
    "id": "wYk-QCdsdRJJ"
   },
   "outputs": [],
   "source": [
    "# Joining the head and body\n",
    "model = Model(inputs= base_model.input, outputs = prediction_layer)"
   ]
  },
  {
   "cell_type": "code",
   "execution_count": 48,
   "metadata": {
    "colab": {
     "base_uri": "https://localhost:8080/"
    },
    "id": "0MXoL_dPdep1",
    "outputId": "5bbe3df1-c811-4c2f-9fd3-ebb566243db7"
   },
   "outputs": [
    {
     "name": "stdout",
     "output_type": "stream",
     "text": [
      "Model: \"model_5\"\n",
      "_________________________________________________________________\n",
      " Layer (type)                Output Shape              Param #   \n",
      "=================================================================\n",
      " input_4 (InputLayer)        [(None, 128, 128, 3)]     0         \n",
      "                                                                 \n",
      " conv1 (Conv2D)              (None, 64, 64, 32)        864       \n",
      "                                                                 \n",
      " conv1_bn (BatchNormalizatio  (None, 64, 64, 32)       128       \n",
      " n)                                                              \n",
      "                                                                 \n",
      " conv1_relu (ReLU)           (None, 64, 64, 32)        0         \n",
      "                                                                 \n",
      " conv_dw_1 (DepthwiseConv2D)  (None, 64, 64, 32)       288       \n",
      "                                                                 \n",
      " conv_dw_1_bn (BatchNormaliz  (None, 64, 64, 32)       128       \n",
      " ation)                                                          \n",
      "                                                                 \n",
      " conv_dw_1_relu (ReLU)       (None, 64, 64, 32)        0         \n",
      "                                                                 \n",
      " conv_pw_1 (Conv2D)          (None, 64, 64, 64)        2048      \n",
      "                                                                 \n",
      " conv_pw_1_bn (BatchNormaliz  (None, 64, 64, 64)       256       \n",
      " ation)                                                          \n",
      "                                                                 \n",
      " conv_pw_1_relu (ReLU)       (None, 64, 64, 64)        0         \n",
      "                                                                 \n",
      " conv_pad_2 (ZeroPadding2D)  (None, 65, 65, 64)        0         \n",
      "                                                                 \n",
      " conv_dw_2 (DepthwiseConv2D)  (None, 32, 32, 64)       576       \n",
      "                                                                 \n",
      " conv_dw_2_bn (BatchNormaliz  (None, 32, 32, 64)       256       \n",
      " ation)                                                          \n",
      "                                                                 \n",
      " conv_dw_2_relu (ReLU)       (None, 32, 32, 64)        0         \n",
      "                                                                 \n",
      " conv_pw_2 (Conv2D)          (None, 32, 32, 128)       8192      \n",
      "                                                                 \n",
      " conv_pw_2_bn (BatchNormaliz  (None, 32, 32, 128)      512       \n",
      " ation)                                                          \n",
      "                                                                 \n",
      " conv_pw_2_relu (ReLU)       (None, 32, 32, 128)       0         \n",
      "                                                                 \n",
      " conv_dw_3 (DepthwiseConv2D)  (None, 32, 32, 128)      1152      \n",
      "                                                                 \n",
      " conv_dw_3_bn (BatchNormaliz  (None, 32, 32, 128)      512       \n",
      " ation)                                                          \n",
      "                                                                 \n",
      " conv_dw_3_relu (ReLU)       (None, 32, 32, 128)       0         \n",
      "                                                                 \n",
      " conv_pw_3 (Conv2D)          (None, 32, 32, 128)       16384     \n",
      "                                                                 \n",
      " conv_pw_3_bn (BatchNormaliz  (None, 32, 32, 128)      512       \n",
      " ation)                                                          \n",
      "                                                                 \n",
      " conv_pw_3_relu (ReLU)       (None, 32, 32, 128)       0         \n",
      "                                                                 \n",
      " conv_pad_4 (ZeroPadding2D)  (None, 33, 33, 128)       0         \n",
      "                                                                 \n",
      " conv_dw_4 (DepthwiseConv2D)  (None, 16, 16, 128)      1152      \n",
      "                                                                 \n",
      " conv_dw_4_bn (BatchNormaliz  (None, 16, 16, 128)      512       \n",
      " ation)                                                          \n",
      "                                                                 \n",
      " conv_dw_4_relu (ReLU)       (None, 16, 16, 128)       0         \n",
      "                                                                 \n",
      " conv_pw_4 (Conv2D)          (None, 16, 16, 256)       32768     \n",
      "                                                                 \n",
      " conv_pw_4_bn (BatchNormaliz  (None, 16, 16, 256)      1024      \n",
      " ation)                                                          \n",
      "                                                                 \n",
      " conv_pw_4_relu (ReLU)       (None, 16, 16, 256)       0         \n",
      "                                                                 \n",
      " conv_dw_5 (DepthwiseConv2D)  (None, 16, 16, 256)      2304      \n",
      "                                                                 \n",
      " conv_dw_5_bn (BatchNormaliz  (None, 16, 16, 256)      1024      \n",
      " ation)                                                          \n",
      "                                                                 \n",
      " conv_dw_5_relu (ReLU)       (None, 16, 16, 256)       0         \n",
      "                                                                 \n",
      " conv_pw_5 (Conv2D)          (None, 16, 16, 256)       65536     \n",
      "                                                                 \n",
      " conv_pw_5_bn (BatchNormaliz  (None, 16, 16, 256)      1024      \n",
      " ation)                                                          \n",
      "                                                                 \n",
      " conv_pw_5_relu (ReLU)       (None, 16, 16, 256)       0         \n",
      "                                                                 \n",
      " conv_pad_6 (ZeroPadding2D)  (None, 17, 17, 256)       0         \n",
      "                                                                 \n",
      " conv_dw_6 (DepthwiseConv2D)  (None, 8, 8, 256)        2304      \n",
      "                                                                 \n",
      " conv_dw_6_bn (BatchNormaliz  (None, 8, 8, 256)        1024      \n",
      " ation)                                                          \n",
      "                                                                 \n",
      " conv_dw_6_relu (ReLU)       (None, 8, 8, 256)         0         \n",
      "                                                                 \n",
      " conv_pw_6 (Conv2D)          (None, 8, 8, 512)         131072    \n",
      "                                                                 \n",
      " conv_pw_6_bn (BatchNormaliz  (None, 8, 8, 512)        2048      \n",
      " ation)                                                          \n",
      "                                                                 \n",
      " conv_pw_6_relu (ReLU)       (None, 8, 8, 512)         0         \n",
      "                                                                 \n",
      " conv_dw_7 (DepthwiseConv2D)  (None, 8, 8, 512)        4608      \n",
      "                                                                 \n",
      " conv_dw_7_bn (BatchNormaliz  (None, 8, 8, 512)        2048      \n",
      " ation)                                                          \n",
      "                                                                 \n",
      " conv_dw_7_relu (ReLU)       (None, 8, 8, 512)         0         \n",
      "                                                                 \n",
      " conv_pw_7 (Conv2D)          (None, 8, 8, 512)         262144    \n",
      "                                                                 \n",
      " conv_pw_7_bn (BatchNormaliz  (None, 8, 8, 512)        2048      \n",
      " ation)                                                          \n",
      "                                                                 \n",
      " conv_pw_7_relu (ReLU)       (None, 8, 8, 512)         0         \n",
      "                                                                 \n",
      " conv_dw_8 (DepthwiseConv2D)  (None, 8, 8, 512)        4608      \n",
      "                                                                 \n",
      " conv_dw_8_bn (BatchNormaliz  (None, 8, 8, 512)        2048      \n",
      " ation)                                                          \n",
      "                                                                 \n",
      " conv_dw_8_relu (ReLU)       (None, 8, 8, 512)         0         \n",
      "                                                                 \n",
      " conv_pw_8 (Conv2D)          (None, 8, 8, 512)         262144    \n",
      "                                                                 \n",
      " conv_pw_8_bn (BatchNormaliz  (None, 8, 8, 512)        2048      \n",
      " ation)                                                          \n",
      "                                                                 \n",
      " conv_pw_8_relu (ReLU)       (None, 8, 8, 512)         0         \n",
      "                                                                 \n",
      " conv_dw_9 (DepthwiseConv2D)  (None, 8, 8, 512)        4608      \n",
      "                                                                 \n",
      " conv_dw_9_bn (BatchNormaliz  (None, 8, 8, 512)        2048      \n",
      " ation)                                                          \n",
      "                                                                 \n",
      " conv_dw_9_relu (ReLU)       (None, 8, 8, 512)         0         \n",
      "                                                                 \n",
      " conv_pw_9 (Conv2D)          (None, 8, 8, 512)         262144    \n",
      "                                                                 \n",
      " conv_pw_9_bn (BatchNormaliz  (None, 8, 8, 512)        2048      \n",
      " ation)                                                          \n",
      "                                                                 \n",
      " conv_pw_9_relu (ReLU)       (None, 8, 8, 512)         0         \n",
      "                                                                 \n",
      " conv_dw_10 (DepthwiseConv2D  (None, 8, 8, 512)        4608      \n",
      " )                                                               \n",
      "                                                                 \n",
      " conv_dw_10_bn (BatchNormali  (None, 8, 8, 512)        2048      \n",
      " zation)                                                         \n",
      "                                                                 \n",
      " conv_dw_10_relu (ReLU)      (None, 8, 8, 512)         0         \n",
      "                                                                 \n",
      " conv_pw_10 (Conv2D)         (None, 8, 8, 512)         262144    \n",
      "                                                                 \n",
      " conv_pw_10_bn (BatchNormali  (None, 8, 8, 512)        2048      \n",
      " zation)                                                         \n",
      "                                                                 \n",
      " conv_pw_10_relu (ReLU)      (None, 8, 8, 512)         0         \n",
      "                                                                 \n",
      " conv_dw_11 (DepthwiseConv2D  (None, 8, 8, 512)        4608      \n",
      " )                                                               \n",
      "                                                                 \n",
      " conv_dw_11_bn (BatchNormali  (None, 8, 8, 512)        2048      \n",
      " zation)                                                         \n",
      "                                                                 \n",
      " conv_dw_11_relu (ReLU)      (None, 8, 8, 512)         0         \n",
      "                                                                 \n",
      " conv_pw_11 (Conv2D)         (None, 8, 8, 512)         262144    \n",
      "                                                                 \n",
      " conv_pw_11_bn (BatchNormali  (None, 8, 8, 512)        2048      \n",
      " zation)                                                         \n",
      "                                                                 \n",
      " conv_pw_11_relu (ReLU)      (None, 8, 8, 512)         0         \n",
      "                                                                 \n",
      " conv_pad_12 (ZeroPadding2D)  (None, 9, 9, 512)        0         \n",
      "                                                                 \n",
      " conv_dw_12 (DepthwiseConv2D  (None, 4, 4, 512)        4608      \n",
      " )                                                               \n",
      "                                                                 \n",
      " conv_dw_12_bn (BatchNormali  (None, 4, 4, 512)        2048      \n",
      " zation)                                                         \n",
      "                                                                 \n",
      " conv_dw_12_relu (ReLU)      (None, 4, 4, 512)         0         \n",
      "                                                                 \n",
      " conv_pw_12 (Conv2D)         (None, 4, 4, 1024)        524288    \n",
      "                                                                 \n",
      " conv_pw_12_bn (BatchNormali  (None, 4, 4, 1024)       4096      \n",
      " zation)                                                         \n",
      "                                                                 \n",
      " conv_pw_12_relu (ReLU)      (None, 4, 4, 1024)        0         \n",
      "                                                                 \n",
      " conv_dw_13 (DepthwiseConv2D  (None, 4, 4, 1024)       9216      \n",
      " )                                                               \n",
      "                                                                 \n",
      " conv_dw_13_bn (BatchNormali  (None, 4, 4, 1024)       4096      \n",
      " zation)                                                         \n",
      "                                                                 \n",
      " conv_dw_13_relu (ReLU)      (None, 4, 4, 1024)        0         \n",
      "                                                                 \n",
      " conv_pw_13 (Conv2D)         (None, 4, 4, 1024)        1048576   \n",
      "                                                                 \n",
      " conv_pw_13_bn (BatchNormali  (None, 4, 4, 1024)       4096      \n",
      " zation)                                                         \n",
      "                                                                 \n",
      " conv_pw_13_relu (ReLU)      (None, 4, 4, 1024)        0         \n",
      "                                                                 \n",
      " flatten_6 (Flatten)         (None, 16384)             0         \n",
      "                                                                 \n",
      " dense_17 (Dense)            (None, 1024)              16778240  \n",
      "                                                                 \n",
      " dense_18 (Dense)            (None, 200)               205000    \n",
      "                                                                 \n",
      " dense_19 (Dense)            (None, 2)                 402       \n",
      "                                                                 \n",
      "=================================================================\n",
      "Total params: 20,212,506\n",
      "Trainable params: 16,983,642\n",
      "Non-trainable params: 3,228,864\n",
      "_________________________________________________________________\n"
     ]
    }
   ],
   "source": [
    "#Summarising the model\n",
    "model.summary()"
   ]
  },
  {
   "cell_type": "code",
   "execution_count": 49,
   "metadata": {
    "colab": {
     "base_uri": "https://localhost:8080/"
    },
    "id": "6aPrCMV0di1-",
    "outputId": "4f2d7928-4a9e-4985-9e98-35928275e294"
   },
   "outputs": [
    {
     "name": "stderr",
     "output_type": "stream",
     "text": [
      "/usr/local/lib/python3.7/dist-packages/ipykernel_launcher.py:4: UserWarning: `Model.fit_generator` is deprecated and will be removed in a future version. Please use `Model.fit`, which supports generators.\n",
      "  after removing the cwd from sys.path.\n"
     ]
    },
    {
     "name": "stdout",
     "output_type": "stream",
     "text": [
      "Epoch 1/10\n",
      "16/16 [==============================] - 10s 555ms/step - loss: 6.2071 - sparse_categorical_accuracy: 0.7440 - val_loss: 0.7312 - val_sparse_categorical_accuracy: 0.9180\n",
      "Epoch 2/10\n",
      "16/16 [==============================] - 8s 509ms/step - loss: 0.3844 - sparse_categorical_accuracy: 0.9485 - val_loss: 0.3537 - val_sparse_categorical_accuracy: 0.9530\n",
      "Epoch 3/10\n",
      "16/16 [==============================] - 8s 516ms/step - loss: 0.0733 - sparse_categorical_accuracy: 0.9825 - val_loss: 0.1600 - val_sparse_categorical_accuracy: 0.9660\n",
      "Epoch 4/10\n",
      "16/16 [==============================] - 9s 566ms/step - loss: 0.0165 - sparse_categorical_accuracy: 0.9920 - val_loss: 0.1340 - val_sparse_categorical_accuracy: 0.9700\n",
      "Epoch 5/10\n",
      "16/16 [==============================] - 8s 516ms/step - loss: 0.0032 - sparse_categorical_accuracy: 0.9980 - val_loss: 0.1226 - val_sparse_categorical_accuracy: 0.9740\n",
      "Epoch 6/10\n",
      "16/16 [==============================] - 8s 512ms/step - loss: 0.0014 - sparse_categorical_accuracy: 0.9995 - val_loss: 0.1241 - val_sparse_categorical_accuracy: 0.9750\n",
      "Epoch 7/10\n",
      "16/16 [==============================] - 8s 511ms/step - loss: 4.4121e-04 - sparse_categorical_accuracy: 1.0000 - val_loss: 0.1251 - val_sparse_categorical_accuracy: 0.9770\n",
      "Epoch 8/10\n",
      "16/16 [==============================] - 8s 510ms/step - loss: 1.0771e-04 - sparse_categorical_accuracy: 1.0000 - val_loss: 0.1257 - val_sparse_categorical_accuracy: 0.9720\n",
      "Epoch 9/10\n",
      "16/16 [==============================] - 8s 508ms/step - loss: 8.8667e-05 - sparse_categorical_accuracy: 1.0000 - val_loss: 0.1252 - val_sparse_categorical_accuracy: 0.9730\n",
      "Epoch 10/10\n",
      "16/16 [==============================] - 8s 514ms/step - loss: 7.4184e-05 - sparse_categorical_accuracy: 1.0000 - val_loss: 0.1255 - val_sparse_categorical_accuracy: 0.9740\n"
     ]
    },
    {
     "data": {
      "text/plain": [
       "<keras.callbacks.History at 0x7f56b0258e90>"
      ]
     },
     "execution_count": 49,
     "metadata": {},
     "output_type": "execute_result"
    }
   ],
   "source": [
    "# Compiling and training \n",
    "model.compile(optimizer='adam', loss = \"sparse_categorical_crossentropy\", metrics=[\"sparse_categorical_accuracy\"])\n",
    "\n",
    "model.fit_generator(train_gen, epochs=10, validation_data=valid_gen)\n"
   ]
  },
  {
   "cell_type": "code",
   "execution_count": 50,
   "metadata": {
    "colab": {
     "base_uri": "https://localhost:8080/",
     "height": 353
    },
    "id": "Px2r0jZyenjU",
    "outputId": "5620fce5-b05b-4b7f-c151-8e7afe799a6f"
   },
   "outputs": [
    {
     "data": {
      "text/plain": [
       "Text(0.5, 1.0, 'Training-Validation Accuracy')"
      ]
     },
     "execution_count": 50,
     "metadata": {},
     "output_type": "execute_result"
    },
    {
     "data": {
      "image/png": "[encoded data removed]",
      "text/plain": [
       "<Figure size 1080x360 with 2 Axes>"
      ]
     },
     "metadata": {
      "needs_background": "light"
     },
     "output_type": "display_data"
    }
   ],
   "source": [
    "#saving the losses\n",
    "loss = pd.DataFrame(model.history.history)\n",
    "\n",
    "#plotting the loss and accuracy\n",
    "plt.figure(figsize=(15,5))\n",
    "\n",
    "plt.subplot(1,2,1)\n",
    "plt.plot(loss[\"loss\"], label =\"Loss\")\n",
    "plt.plot(loss[\"val_loss\"], label = \"Validation_loss\")\n",
    "plt.legend()\n",
    "plt.title(\"Training and Validation Loss\")\n",
    "\n",
    "plt.subplot(1,2,2)\n",
    "plt.plot(loss['sparse_categorical_accuracy'],label = \"Training Accuracy\")\n",
    "plt.plot(loss['val_sparse_categorical_accuracy'], label =\"Validation_ Accuracy \")\n",
    "plt.legend()\n",
    "plt.title(\"Training-Validation Accuracy\")"
   ]
  },
  {
   "cell_type": "markdown",
   "metadata": {
    "id": "w31aP8p1GKUG"
   },
   "source": [
    "# Transfer learning Using Mobile Net architecture"
   ]
  },
  {
   "cell_type": "code",
   "execution_count": 51,
   "metadata": {
    "id": "w28PWlviewgu"
   },
   "outputs": [],
   "source": [
    "# Building the body of the model Using VGG19\n",
    "base_model = tf.keras.applications.MobileNet(input_shape=(128,128,3), weights=\"imagenet\", include_top=False)\n",
    "\n",
    "#freaaxing the layer\n",
    "for layer in base_model.layers:\n",
    "  layer.trainable= False"
   ]
  },
  {
   "cell_type": "code",
   "execution_count": 52,
   "metadata": {
    "colab": {
     "base_uri": "https://localhost:8080/"
    },
    "id": "6euhyvrTspkS",
    "outputId": "133fe45b-f207-4a30-e812-3b5e28cdba98"
   },
   "outputs": [
    {
     "name": "stdout",
     "output_type": "stream",
     "text": [
      "Model: \"mobilenet_1.00_128\"\n",
      "_________________________________________________________________\n",
      " Layer (type)                Output Shape              Param #   \n",
      "=================================================================\n",
      " input_5 (InputLayer)        [(None, 128, 128, 3)]     0         \n",
      "                                                                 \n",
      " conv1 (Conv2D)              (None, 64, 64, 32)        864       \n",
      "                                                                 \n",
      " conv1_bn (BatchNormalizatio  (None, 64, 64, 32)       128       \n",
      " n)                                                              \n",
      "                                                                 \n",
      " conv1_relu (ReLU)           (None, 64, 64, 32)        0         \n",
      "                                                                 \n",
      " conv_dw_1 (DepthwiseConv2D)  (None, 64, 64, 32)       288       \n",
      "                                                                 \n",
      " conv_dw_1_bn (BatchNormaliz  (None, 64, 64, 32)       128       \n",
      " ation)                                                          \n",
      "                                                                 \n",
      " conv_dw_1_relu (ReLU)       (None, 64, 64, 32)        0         \n",
      "                                                                 \n",
      " conv_pw_1 (Conv2D)          (None, 64, 64, 64)        2048      \n",
      "                                                                 \n",
      " conv_pw_1_bn (BatchNormaliz  (None, 64, 64, 64)       256       \n",
      " ation)                                                          \n",
      "                                                                 \n",
      " conv_pw_1_relu (ReLU)       (None, 64, 64, 64)        0         \n",
      "                                                                 \n",
      " conv_pad_2 (ZeroPadding2D)  (None, 65, 65, 64)        0         \n",
      "                                                                 \n",
      " conv_dw_2 (DepthwiseConv2D)  (None, 32, 32, 64)       576       \n",
      "                                                                 \n",
      " conv_dw_2_bn (BatchNormaliz  (None, 32, 32, 64)       256       \n",
      " ation)                                                          \n",
      "                                                                 \n",
      " conv_dw_2_relu (ReLU)       (None, 32, 32, 64)        0         \n",
      "                                                                 \n",
      " conv_pw_2 (Conv2D)          (None, 32, 32, 128)       8192      \n",
      "                                                                 \n",
      " conv_pw_2_bn (BatchNormaliz  (None, 32, 32, 128)      512       \n",
      " ation)                                                          \n",
      "                                                                 \n",
      " conv_pw_2_relu (ReLU)       (None, 32, 32, 128)       0         \n",
      "                                                                 \n",
      " conv_dw_3 (DepthwiseConv2D)  (None, 32, 32, 128)      1152      \n",
      "                                                                 \n",
      " conv_dw_3_bn (BatchNormaliz  (None, 32, 32, 128)      512       \n",
      " ation)                                                          \n",
      "                                                                 \n",
      " conv_dw_3_relu (ReLU)       (None, 32, 32, 128)       0         \n",
      "                                                                 \n",
      " conv_pw_3 (Conv2D)          (None, 32, 32, 128)       16384     \n",
      "                                                                 \n",
      " conv_pw_3_bn (BatchNormaliz  (None, 32, 32, 128)      512       \n",
      " ation)                                                          \n",
      "                                                                 \n",
      " conv_pw_3_relu (ReLU)       (None, 32, 32, 128)       0         \n",
      "                                                                 \n",
      " conv_pad_4 (ZeroPadding2D)  (None, 33, 33, 128)       0         \n",
      "                                                                 \n",
      " conv_dw_4 (DepthwiseConv2D)  (None, 16, 16, 128)      1152      \n",
      "                                                                 \n",
      " conv_dw_4_bn (BatchNormaliz  (None, 16, 16, 128)      512       \n",
      " ation)                                                          \n",
      "                                                                 \n",
      " conv_dw_4_relu (ReLU)       (None, 16, 16, 128)       0         \n",
      "                                                                 \n",
      " conv_pw_4 (Conv2D)          (None, 16, 16, 256)       32768     \n",
      "                                                                 \n",
      " conv_pw_4_bn (BatchNormaliz  (None, 16, 16, 256)      1024      \n",
      " ation)                                                          \n",
      "                                                                 \n",
      " conv_pw_4_relu (ReLU)       (None, 16, 16, 256)       0         \n",
      "                                                                 \n",
      " conv_dw_5 (DepthwiseConv2D)  (None, 16, 16, 256)      2304      \n",
      "                                                                 \n",
      " conv_dw_5_bn (BatchNormaliz  (None, 16, 16, 256)      1024      \n",
      " ation)                                                          \n",
      "                                                                 \n",
      " conv_dw_5_relu (ReLU)       (None, 16, 16, 256)       0         \n",
      "                                                                 \n",
      " conv_pw_5 (Conv2D)          (None, 16, 16, 256)       65536     \n",
      "                                                                 \n",
      " conv_pw_5_bn (BatchNormaliz  (None, 16, 16, 256)      1024      \n",
      " ation)                                                          \n",
      "                                                                 \n",
      " conv_pw_5_relu (ReLU)       (None, 16, 16, 256)       0         \n",
      "                                                                 \n",
      " conv_pad_6 (ZeroPadding2D)  (None, 17, 17, 256)       0         \n",
      "                                                                 \n",
      " conv_dw_6 (DepthwiseConv2D)  (None, 8, 8, 256)        2304      \n",
      "                                                                 \n",
      " conv_dw_6_bn (BatchNormaliz  (None, 8, 8, 256)        1024      \n",
      " ation)                                                          \n",
      "                                                                 \n",
      " conv_dw_6_relu (ReLU)       (None, 8, 8, 256)         0         \n",
      "                                                                 \n",
      " conv_pw_6 (Conv2D)          (None, 8, 8, 512)         131072    \n",
      "                                                                 \n",
      " conv_pw_6_bn (BatchNormaliz  (None, 8, 8, 512)        2048      \n",
      " ation)                                                          \n",
      "                                                                 \n",
      " conv_pw_6_relu (ReLU)       (None, 8, 8, 512)         0         \n",
      "                                                                 \n",
      " conv_dw_7 (DepthwiseConv2D)  (None, 8, 8, 512)        4608      \n",
      "                                                                 \n",
      " conv_dw_7_bn (BatchNormaliz  (None, 8, 8, 512)        2048      \n",
      " ation)                                                          \n",
      "                                                                 \n",
      " conv_dw_7_relu (ReLU)       (None, 8, 8, 512)         0         \n",
      "                                                                 \n",
      " conv_pw_7 (Conv2D)          (None, 8, 8, 512)         262144    \n",
      "                                                                 \n",
      " conv_pw_7_bn (BatchNormaliz  (None, 8, 8, 512)        2048      \n",
      " ation)                                                          \n",
      "                                                                 \n",
      " conv_pw_7_relu (ReLU)       (None, 8, 8, 512)         0         \n",
      "                                                                 \n",
      " conv_dw_8 (DepthwiseConv2D)  (None, 8, 8, 512)        4608      \n",
      "                                                                 \n",
      " conv_dw_8_bn (BatchNormaliz  (None, 8, 8, 512)        2048      \n",
      " ation)                                                          \n",
      "                                                                 \n",
      " conv_dw_8_relu (ReLU)       (None, 8, 8, 512)         0         \n",
      "                                                                 \n",
      " conv_pw_8 (Conv2D)          (None, 8, 8, 512)         262144    \n",
      "                                                                 \n",
      " conv_pw_8_bn (BatchNormaliz  (None, 8, 8, 512)        2048      \n",
      " ation)                                                          \n",
      "                                                                 \n",
      " conv_pw_8_relu (ReLU)       (None, 8, 8, 512)         0         \n",
      "                                                                 \n",
      " conv_dw_9 (DepthwiseConv2D)  (None, 8, 8, 512)        4608      \n",
      "                                                                 \n",
      " conv_dw_9_bn (BatchNormaliz  (None, 8, 8, 512)        2048      \n",
      " ation)                                                          \n",
      "                                                                 \n",
      " conv_dw_9_relu (ReLU)       (None, 8, 8, 512)         0         \n",
      "                                                                 \n",
      " conv_pw_9 (Conv2D)          (None, 8, 8, 512)         262144    \n",
      "                                                                 \n",
      " conv_pw_9_bn (BatchNormaliz  (None, 8, 8, 512)        2048      \n",
      " ation)                                                          \n",
      "                                                                 \n",
      " conv_pw_9_relu (ReLU)       (None, 8, 8, 512)         0         \n",
      "                                                                 \n",
      " conv_dw_10 (DepthwiseConv2D  (None, 8, 8, 512)        4608      \n",
      " )                                                               \n",
      "                                                                 \n",
      " conv_dw_10_bn (BatchNormali  (None, 8, 8, 512)        2048      \n",
      " zation)                                                         \n",
      "                                                                 \n",
      " conv_dw_10_relu (ReLU)      (None, 8, 8, 512)         0         \n",
      "                                                                 \n",
      " conv_pw_10 (Conv2D)         (None, 8, 8, 512)         262144    \n",
      "                                                                 \n",
      " conv_pw_10_bn (BatchNormali  (None, 8, 8, 512)        2048      \n",
      " zation)                                                         \n",
      "                                                                 \n",
      " conv_pw_10_relu (ReLU)      (None, 8, 8, 512)         0         \n",
      "                                                                 \n",
      " conv_dw_11 (DepthwiseConv2D  (None, 8, 8, 512)        4608      \n",
      " )                                                               \n",
      "                                                                 \n",
      " conv_dw_11_bn (BatchNormali  (None, 8, 8, 512)        2048      \n",
      " zation)                                                         \n",
      "                                                                 \n",
      " conv_dw_11_relu (ReLU)      (None, 8, 8, 512)         0         \n",
      "                                                                 \n",
      " conv_pw_11 (Conv2D)         (None, 8, 8, 512)         262144    \n",
      "                                                                 \n",
      " conv_pw_11_bn (BatchNormali  (None, 8, 8, 512)        2048      \n",
      " zation)                                                         \n",
      "                                                                 \n",
      " conv_pw_11_relu (ReLU)      (None, 8, 8, 512)         0         \n",
      "                                                                 \n",
      " conv_pad_12 (ZeroPadding2D)  (None, 9, 9, 512)        0         \n",
      "                                                                 \n",
      " conv_dw_12 (DepthwiseConv2D  (None, 4, 4, 512)        4608      \n",
      " )                                                               \n",
      "                                                                 \n",
      " conv_dw_12_bn (BatchNormali  (None, 4, 4, 512)        2048      \n",
      " zation)                                                         \n",
      "                                                                 \n",
      " conv_dw_12_relu (ReLU)      (None, 4, 4, 512)         0         \n",
      "                                                                 \n",
      " conv_pw_12 (Conv2D)         (None, 4, 4, 1024)        524288    \n",
      "                                                                 \n",
      " conv_pw_12_bn (BatchNormali  (None, 4, 4, 1024)       4096      \n",
      " zation)                                                         \n",
      "                                                                 \n",
      " conv_pw_12_relu (ReLU)      (None, 4, 4, 1024)        0         \n",
      "                                                                 \n",
      " conv_dw_13 (DepthwiseConv2D  (None, 4, 4, 1024)       9216      \n",
      " )                                                               \n",
      "                                                                 \n",
      " conv_dw_13_bn (BatchNormali  (None, 4, 4, 1024)       4096      \n",
      " zation)                                                         \n",
      "                                                                 \n",
      " conv_dw_13_relu (ReLU)      (None, 4, 4, 1024)        0         \n",
      "                                                                 \n",
      " conv_pw_13 (Conv2D)         (None, 4, 4, 1024)        1048576   \n",
      "                                                                 \n",
      " conv_pw_13_bn (BatchNormali  (None, 4, 4, 1024)       4096      \n",
      " zation)                                                         \n",
      "                                                                 \n",
      " conv_pw_13_relu (ReLU)      (None, 4, 4, 1024)        0         \n",
      "                                                                 \n",
      "=================================================================\n",
      "Total params: 3,228,864\n",
      "Trainable params: 0\n",
      "Non-trainable params: 3,228,864\n",
      "_________________________________________________________________\n"
     ]
    }
   ],
   "source": [
    "base_model.summary()"
   ]
  },
  {
   "cell_type": "code",
   "execution_count": 54,
   "metadata": {
    "id": "6wE9kjwbGX_c"
   },
   "outputs": [],
   "source": [
    "#Creating the Head of the model\n",
    "model = Flatten()(base_model.output)\n",
    "\n",
    "model = Dense(units=1024, activation=\"relu\")(model)\n",
    "model = Dense(units=200, activation=\"relu\")(model)\n",
    "\n",
    "prediction_layer = Dense(units=2, activation=\"softmax\")(model)"
   ]
  },
  {
   "cell_type": "code",
   "execution_count": 55,
   "metadata": {
    "id": "EDMbF6GDGnfm"
   },
   "outputs": [],
   "source": [
    "# Joining the head and body\n",
    "model = Model(inputs= base_model.input, outputs = prediction_layer)"
   ]
  },
  {
   "cell_type": "code",
   "execution_count": 56,
   "metadata": {
    "colab": {
     "base_uri": "https://localhost:8080/"
    },
    "id": "ZIf_eR3ZGqrq",
    "outputId": "0834c680-c452-40e4-ebba-de457c37179f"
   },
   "outputs": [
    {
     "name": "stdout",
     "output_type": "stream",
     "text": [
      "Model: \"model_6\"\n",
      "_________________________________________________________________\n",
      " Layer (type)                Output Shape              Param #   \n",
      "=================================================================\n",
      " input_5 (InputLayer)        [(None, 128, 128, 3)]     0         \n",
      "                                                                 \n",
      " conv1 (Conv2D)              (None, 64, 64, 32)        864       \n",
      "                                                                 \n",
      " conv1_bn (BatchNormalizatio  (None, 64, 64, 32)       128       \n",
      " n)                                                              \n",
      "                                                                 \n",
      " conv1_relu (ReLU)           (None, 64, 64, 32)        0         \n",
      "                                                                 \n",
      " conv_dw_1 (DepthwiseConv2D)  (None, 64, 64, 32)       288       \n",
      "                                                                 \n",
      " conv_dw_1_bn (BatchNormaliz  (None, 64, 64, 32)       128       \n",
      " ation)                                                          \n",
      "                                                                 \n",
      " conv_dw_1_relu (ReLU)       (None, 64, 64, 32)        0         \n",
      "                                                                 \n",
      " conv_pw_1 (Conv2D)          (None, 64, 64, 64)        2048      \n",
      "                                                                 \n",
      " conv_pw_1_bn (BatchNormaliz  (None, 64, 64, 64)       256       \n",
      " ation)                                                          \n",
      "                                                                 \n",
      " conv_pw_1_relu (ReLU)       (None, 64, 64, 64)        0         \n",
      "                                                                 \n",
      " conv_pad_2 (ZeroPadding2D)  (None, 65, 65, 64)        0         \n",
      "                                                                 \n",
      " conv_dw_2 (DepthwiseConv2D)  (None, 32, 32, 64)       576       \n",
      "                                                                 \n",
      " conv_dw_2_bn (BatchNormaliz  (None, 32, 32, 64)       256       \n",
      " ation)                                                          \n",
      "                                                                 \n",
      " conv_dw_2_relu (ReLU)       (None, 32, 32, 64)        0         \n",
      "                                                                 \n",
      " conv_pw_2 (Conv2D)          (None, 32, 32, 128)       8192      \n",
      "                                                                 \n",
      " conv_pw_2_bn (BatchNormaliz  (None, 32, 32, 128)      512       \n",
      " ation)                                                          \n",
      "                                                                 \n",
      " conv_pw_2_relu (ReLU)       (None, 32, 32, 128)       0         \n",
      "                                                                 \n",
      " conv_dw_3 (DepthwiseConv2D)  (None, 32, 32, 128)      1152      \n",
      "                                                                 \n",
      " conv_dw_3_bn (BatchNormaliz  (None, 32, 32, 128)      512       \n",
      " ation)                                                          \n",
      "                                                                 \n",
      " conv_dw_3_relu (ReLU)       (None, 32, 32, 128)       0         \n",
      "                                                                 \n",
      " conv_pw_3 (Conv2D)          (None, 32, 32, 128)       16384     \n",
      "                                                                 \n",
      " conv_pw_3_bn (BatchNormaliz  (None, 32, 32, 128)      512       \n",
      " ation)                                                          \n",
      "                                                                 \n",
      " conv_pw_3_relu (ReLU)       (None, 32, 32, 128)       0         \n",
      "                                                                 \n",
      " conv_pad_4 (ZeroPadding2D)  (None, 33, 33, 128)       0         \n",
      "                                                                 \n",
      " conv_dw_4 (DepthwiseConv2D)  (None, 16, 16, 128)      1152      \n",
      "                                                                 \n",
      " conv_dw_4_bn (BatchNormaliz  (None, 16, 16, 128)      512       \n",
      " ation)                                                          \n",
      "                                                                 \n",
      " conv_dw_4_relu (ReLU)       (None, 16, 16, 128)       0         \n",
      "                                                                 \n",
      " conv_pw_4 (Conv2D)          (None, 16, 16, 256)       32768     \n",
      "                                                                 \n",
      " conv_pw_4_bn (BatchNormaliz  (None, 16, 16, 256)      1024      \n",
      " ation)                                                          \n",
      "                                                                 \n",
      " conv_pw_4_relu (ReLU)       (None, 16, 16, 256)       0         \n",
      "                                                                 \n",
      " conv_dw_5 (DepthwiseConv2D)  (None, 16, 16, 256)      2304      \n",
      "                                                                 \n",
      " conv_dw_5_bn (BatchNormaliz  (None, 16, 16, 256)      1024      \n",
      " ation)                                                          \n",
      "                                                                 \n",
      " conv_dw_5_relu (ReLU)       (None, 16, 16, 256)       0         \n",
      "                                                                 \n",
      " conv_pw_5 (Conv2D)          (None, 16, 16, 256)       65536     \n",
      "                                                                 \n",
      " conv_pw_5_bn (BatchNormaliz  (None, 16, 16, 256)      1024      \n",
      " ation)                                                          \n",
      "                                                                 \n",
      " conv_pw_5_relu (ReLU)       (None, 16, 16, 256)       0         \n",
      "                                                                 \n",
      " conv_pad_6 (ZeroPadding2D)  (None, 17, 17, 256)       0         \n",
      "                                                                 \n",
      " conv_dw_6 (DepthwiseConv2D)  (None, 8, 8, 256)        2304      \n",
      "                                                                 \n",
      " conv_dw_6_bn (BatchNormaliz  (None, 8, 8, 256)        1024      \n",
      " ation)                                                          \n",
      "                                                                 \n",
      " conv_dw_6_relu (ReLU)       (None, 8, 8, 256)         0         \n",
      "                                                                 \n",
      " conv_pw_6 (Conv2D)          (None, 8, 8, 512)         131072    \n",
      "                                                                 \n",
      " conv_pw_6_bn (BatchNormaliz  (None, 8, 8, 512)        2048      \n",
      " ation)                                                          \n",
      "                                                                 \n",
      " conv_pw_6_relu (ReLU)       (None, 8, 8, 512)         0         \n",
      "                                                                 \n",
      " conv_dw_7 (DepthwiseConv2D)  (None, 8, 8, 512)        4608      \n",
      "                                                                 \n",
      " conv_dw_7_bn (BatchNormaliz  (None, 8, 8, 512)        2048      \n",
      " ation)                                                          \n",
      "                                                                 \n",
      " conv_dw_7_relu (ReLU)       (None, 8, 8, 512)         0         \n",
      "                                                                 \n",
      " conv_pw_7 (Conv2D)          (None, 8, 8, 512)         262144    \n",
      "                                                                 \n",
      " conv_pw_7_bn (BatchNormaliz  (None, 8, 8, 512)        2048      \n",
      " ation)                                                          \n",
      "                                                                 \n",
      " conv_pw_7_relu (ReLU)       (None, 8, 8, 512)         0         \n",
      "                                                                 \n",
      " conv_dw_8 (DepthwiseConv2D)  (None, 8, 8, 512)        4608      \n",
      "                                                                 \n",
      " conv_dw_8_bn (BatchNormaliz  (None, 8, 8, 512)        2048      \n",
      " ation)                                                          \n",
      "                                                                 \n",
      " conv_dw_8_relu (ReLU)       (None, 8, 8, 512)         0         \n",
      "                                                                 \n",
      " conv_pw_8 (Conv2D)          (None, 8, 8, 512)         262144    \n",
      "                                                                 \n",
      " conv_pw_8_bn (BatchNormaliz  (None, 8, 8, 512)        2048      \n",
      " ation)                                                          \n",
      "                                                                 \n",
      " conv_pw_8_relu (ReLU)       (None, 8, 8, 512)         0         \n",
      "                                                                 \n",
      " conv_dw_9 (DepthwiseConv2D)  (None, 8, 8, 512)        4608      \n",
      "                                                                 \n",
      " conv_dw_9_bn (BatchNormaliz  (None, 8, 8, 512)        2048      \n",
      " ation)                                                          \n",
      "                                                                 \n",
      " conv_dw_9_relu (ReLU)       (None, 8, 8, 512)         0         \n",
      "                                                                 \n",
      " conv_pw_9 (Conv2D)          (None, 8, 8, 512)         262144    \n",
      "                                                                 \n",
      " conv_pw_9_bn (BatchNormaliz  (None, 8, 8, 512)        2048      \n",
      " ation)                                                          \n",
      "                                                                 \n",
      " conv_pw_9_relu (ReLU)       (None, 8, 8, 512)         0         \n",
      "                                                                 \n",
      " conv_dw_10 (DepthwiseConv2D  (None, 8, 8, 512)        4608      \n",
      " )                                                               \n",
      "                                                                 \n",
      " conv_dw_10_bn (BatchNormali  (None, 8, 8, 512)        2048      \n",
      " zation)                                                         \n",
      "                                                                 \n",
      " conv_dw_10_relu (ReLU)      (None, 8, 8, 512)         0         \n",
      "                                                                 \n",
      " conv_pw_10 (Conv2D)         (None, 8, 8, 512)         262144    \n",
      "                                                                 \n",
      " conv_pw_10_bn (BatchNormali  (None, 8, 8, 512)        2048      \n",
      " zation)                                                         \n",
      "                                                                 \n",
      " conv_pw_10_relu (ReLU)      (None, 8, 8, 512)         0         \n",
      "                                                                 \n",
      " conv_dw_11 (DepthwiseConv2D  (None, 8, 8, 512)        4608      \n",
      " )                                                               \n",
      "                                                                 \n",
      " conv_dw_11_bn (BatchNormali  (None, 8, 8, 512)        2048      \n",
      " zation)                                                         \n",
      "                                                                 \n",
      " conv_dw_11_relu (ReLU)      (None, 8, 8, 512)         0         \n",
      "                                                                 \n",
      " conv_pw_11 (Conv2D)         (None, 8, 8, 512)         262144    \n",
      "                                                                 \n",
      " conv_pw_11_bn (BatchNormali  (None, 8, 8, 512)        2048      \n",
      " zation)                                                         \n",
      "                                                                 \n",
      " conv_pw_11_relu (ReLU)      (None, 8, 8, 512)         0         \n",
      "                                                                 \n",
      " conv_pad_12 (ZeroPadding2D)  (None, 9, 9, 512)        0         \n",
      "                                                                 \n",
      " conv_dw_12 (DepthwiseConv2D  (None, 4, 4, 512)        4608      \n",
      " )                                                               \n",
      "                                                                 \n",
      " conv_dw_12_bn (BatchNormali  (None, 4, 4, 512)        2048      \n",
      " zation)                                                         \n",
      "                                                                 \n",
      " conv_dw_12_relu (ReLU)      (None, 4, 4, 512)         0         \n",
      "                                                                 \n",
      " conv_pw_12 (Conv2D)         (None, 4, 4, 1024)        524288    \n",
      "                                                                 \n",
      " conv_pw_12_bn (BatchNormali  (None, 4, 4, 1024)       4096      \n",
      " zation)                                                         \n",
      "                                                                 \n",
      " conv_pw_12_relu (ReLU)      (None, 4, 4, 1024)        0         \n",
      "                                                                 \n",
      " conv_dw_13 (DepthwiseConv2D  (None, 4, 4, 1024)       9216      \n",
      " )                                                               \n",
      "                                                                 \n",
      " conv_dw_13_bn (BatchNormali  (None, 4, 4, 1024)       4096      \n",
      " zation)                                                         \n",
      "                                                                 \n",
      " conv_dw_13_relu (ReLU)      (None, 4, 4, 1024)        0         \n",
      "                                                                 \n",
      " conv_pw_13 (Conv2D)         (None, 4, 4, 1024)        1048576   \n",
      "                                                                 \n",
      " conv_pw_13_bn (BatchNormali  (None, 4, 4, 1024)       4096      \n",
      " zation)                                                         \n",
      "                                                                 \n",
      " conv_pw_13_relu (ReLU)      (None, 4, 4, 1024)        0         \n",
      "                                                                 \n",
      " flatten_8 (Flatten)         (None, 16384)             0         \n",
      "                                                                 \n",
      " dense_23 (Dense)            (None, 1024)              16778240  \n",
      "                                                                 \n",
      " dense_24 (Dense)            (None, 200)               205000    \n",
      "                                                                 \n",
      " dense_25 (Dense)            (None, 2)                 402       \n",
      "                                                                 \n",
      "=================================================================\n",
      "Total params: 20,212,506\n",
      "Trainable params: 16,983,642\n",
      "Non-trainable params: 3,228,864\n",
      "_________________________________________________________________\n"
     ]
    }
   ],
   "source": [
    "#Summarising the model\n",
    "model.summary()"
   ]
  },
  {
   "cell_type": "code",
   "execution_count": 57,
   "metadata": {
    "colab": {
     "base_uri": "https://localhost:8080/"
    },
    "id": "_KpNTFsXGt3q",
    "outputId": "3d86b223-74d7-4af6-9f3b-93d835151482"
   },
   "outputs": [
    {
     "name": "stderr",
     "output_type": "stream",
     "text": [
      "/usr/local/lib/python3.7/dist-packages/ipykernel_launcher.py:4: UserWarning: `Model.fit_generator` is deprecated and will be removed in a future version. Please use `Model.fit`, which supports generators.\n",
      "  after removing the cwd from sys.path.\n"
     ]
    },
    {
     "name": "stdout",
     "output_type": "stream",
     "text": [
      "Epoch 1/10\n",
      "16/16 [==============================] - 11s 569ms/step - loss: 2.9349 - sparse_categorical_accuracy: 0.8425 - val_loss: 0.4047 - val_sparse_categorical_accuracy: 0.9460\n",
      "Epoch 2/10\n",
      "16/16 [==============================] - 8s 516ms/step - loss: 0.1445 - sparse_categorical_accuracy: 0.9735 - val_loss: 0.1884 - val_sparse_categorical_accuracy: 0.9710\n",
      "Epoch 3/10\n",
      "16/16 [==============================] - 8s 510ms/step - loss: 0.0393 - sparse_categorical_accuracy: 0.9910 - val_loss: 0.2537 - val_sparse_categorical_accuracy: 0.9640\n",
      "Epoch 4/10\n",
      "16/16 [==============================] - 8s 513ms/step - loss: 0.0135 - sparse_categorical_accuracy: 0.9955 - val_loss: 0.1805 - val_sparse_categorical_accuracy: 0.9740\n",
      "Epoch 5/10\n",
      "16/16 [==============================] - 8s 515ms/step - loss: 0.0060 - sparse_categorical_accuracy: 0.9980 - val_loss: 0.1734 - val_sparse_categorical_accuracy: 0.9630\n",
      "Epoch 6/10\n",
      "16/16 [==============================] - 9s 571ms/step - loss: 0.0010 - sparse_categorical_accuracy: 1.0000 - val_loss: 0.1716 - val_sparse_categorical_accuracy: 0.9730\n",
      "Epoch 7/10\n",
      "16/16 [==============================] - 8s 514ms/step - loss: 1.0150e-04 - sparse_categorical_accuracy: 1.0000 - val_loss: 0.1675 - val_sparse_categorical_accuracy: 0.9720\n",
      "Epoch 8/10\n",
      "16/16 [==============================] - 8s 513ms/step - loss: 6.7901e-05 - sparse_categorical_accuracy: 1.0000 - val_loss: 0.1690 - val_sparse_categorical_accuracy: 0.9720\n",
      "Epoch 9/10\n",
      "16/16 [==============================] - 8s 514ms/step - loss: 2.6451e-05 - sparse_categorical_accuracy: 1.0000 - val_loss: 0.1697 - val_sparse_categorical_accuracy: 0.9720\n",
      "Epoch 10/10\n",
      "16/16 [==============================] - 8s 511ms/step - loss: 2.4227e-05 - sparse_categorical_accuracy: 1.0000 - val_loss: 0.1698 - val_sparse_categorical_accuracy: 0.9730\n"
     ]
    },
    {
     "data": {
      "text/plain": [
       "<keras.callbacks.History at 0x7f55189f9a10>"
      ]
     },
     "execution_count": 57,
     "metadata": {},
     "output_type": "execute_result"
    }
   ],
   "source": [
    "# Compiling and training \n",
    "model.compile(optimizer='adam', loss = \"sparse_categorical_crossentropy\", metrics=[\"sparse_categorical_accuracy\"])\n",
    "\n",
    "model.fit_generator(train_gen, epochs=10, validation_data=valid_gen)\n"
   ]
  },
  {
   "cell_type": "code",
   "execution_count": 58,
   "metadata": {
    "colab": {
     "base_uri": "https://localhost:8080/",
     "height": 353
    },
    "id": "jF9DcnPaGwyK",
    "outputId": "681a20ea-3382-4d43-9559-02cfb45121b2"
   },
   "outputs": [
    {
     "data": {
      "text/plain": [
       "Text(0.5, 1.0, 'Training-Validation Accuracy')"
      ]
     },
     "execution_count": 58,
     "metadata": {},
     "output_type": "execute_result"
    },
    {
     "data": {
      "image/png": "[encoded data removed]",
      "text/plain": [
       "<Figure size 1080x360 with 2 Axes>"
      ]
     },
     "metadata": {
      "needs_background": "light"
     },
     "output_type": "display_data"
    }
   ],
   "source": [
    "#saving the losses\n",
    "loss = pd.DataFrame(model.history.history)\n",
    "\n",
    "#plotting the loss and accuracy\n",
    "plt.figure(figsize=(15,5))\n",
    "\n",
    "plt.subplot(1,2,1)\n",
    "plt.plot(loss[\"loss\"], label =\"Loss\")\n",
    "plt.plot(loss[\"val_loss\"], label = \"Validation_loss\")\n",
    "plt.legend()\n",
    "plt.title(\"Training and Validation Loss\")\n",
    "\n",
    "plt.subplot(1,2,2)\n",
    "plt.plot(loss['sparse_categorical_accuracy'],label = \"Training Accuracy\")\n",
    "plt.plot(loss['val_sparse_categorical_accuracy'], label =\"Validation_ Accuracy \")\n",
    "plt.legend()\n",
    "plt.title(\"Training-Validation Accuracy\")"
   ]
  },
  {
   "cell_type": "code",
   "execution_count": 62,
   "metadata": {
    "id": "VtwBQ_c5G2D3"
   },
   "outputs": [],
   "source": [
    "# Transfer learning Using VGG16 architecture\n",
    "\n"
   ]
  },
  {
   "cell_type": "code",
   "execution_count": 63,
   "metadata": {
    "colab": {
     "base_uri": "https://localhost:8080/"
    },
    "id": "amvcDSIVNUvE",
    "outputId": "e34d5822-7115-4ebf-e9ca-6de5f4989e45"
   },
   "outputs": [
    {
     "name": "stdout",
     "output_type": "stream",
     "text": [
      "Downloading data from https://storage.googleapis.com/tensorflow/keras-applications/vgg16/vgg16_weights_tf_dim_ordering_tf_kernels_notop.h5\n",
      "58892288/58889256 [==============================] - 0s 0us/step\n",
      "58900480/58889256 [==============================] - 0s 0us/step\n"
     ]
    }
   ],
   "source": [
    "# Building the body of the model Using VGG16\n",
    "base_model = tf.keras.applications.VGG16(input_shape=(128,128,3), weights=\"imagenet\", include_top=False)\n",
    "\n",
    "#freaaxing the layer\n",
    "for layer in base_model.layers:\n",
    "  layer.trainable= False"
   ]
  },
  {
   "cell_type": "code",
   "execution_count": 66,
   "metadata": {
    "colab": {
     "base_uri": "https://localhost:8080/"
    },
    "id": "arcmlzFWNl6U",
    "outputId": "5e4701ce-8e87-435a-c217-c73c02f23409"
   },
   "outputs": [
    {
     "name": "stdout",
     "output_type": "stream",
     "text": [
      "Model: \"vgg16\"\n",
      "_________________________________________________________________\n",
      " Layer (type)                Output Shape              Param #   \n",
      "=================================================================\n",
      " input_6 (InputLayer)        [(None, 128, 128, 3)]     0         \n",
      "                                                                 \n",
      " block1_conv1 (Conv2D)       (None, 128, 128, 64)      1792      \n",
      "                                                                 \n",
      " block1_conv2 (Conv2D)       (None, 128, 128, 64)      36928     \n",
      "                                                                 \n",
      " block1_pool (MaxPooling2D)  (None, 64, 64, 64)        0         \n",
      "                                                                 \n",
      " block2_conv1 (Conv2D)       (None, 64, 64, 128)       73856     \n",
      "                                                                 \n",
      " block2_conv2 (Conv2D)       (None, 64, 64, 128)       147584    \n",
      "                                                                 \n",
      " block2_pool (MaxPooling2D)  (None, 32, 32, 128)       0         \n",
      "                                                                 \n",
      " block3_conv1 (Conv2D)       (None, 32, 32, 256)       295168    \n",
      "                                                                 \n",
      " block3_conv2 (Conv2D)       (None, 32, 32, 256)       590080    \n",
      "                                                                 \n",
      " block3_conv3 (Conv2D)       (None, 32, 32, 256)       590080    \n",
      "                                                                 \n",
      " block3_pool (MaxPooling2D)  (None, 16, 16, 256)       0         \n",
      "                                                                 \n",
      " block4_conv1 (Conv2D)       (None, 16, 16, 512)       1180160   \n",
      "                                                                 \n",
      " block4_conv2 (Conv2D)       (None, 16, 16, 512)       2359808   \n",
      "                                                                 \n",
      " block4_conv3 (Conv2D)       (None, 16, 16, 512)       2359808   \n",
      "                                                                 \n",
      " block4_pool (MaxPooling2D)  (None, 8, 8, 512)         0         \n",
      "                                                                 \n",
      " block5_conv1 (Conv2D)       (None, 8, 8, 512)         2359808   \n",
      "                                                                 \n",
      " block5_conv2 (Conv2D)       (None, 8, 8, 512)         2359808   \n",
      "                                                                 \n",
      " block5_conv3 (Conv2D)       (None, 8, 8, 512)         2359808   \n",
      "                                                                 \n",
      " block5_pool (MaxPooling2D)  (None, 4, 4, 512)         0         \n",
      "                                                                 \n",
      "=================================================================\n",
      "Total params: 14,714,688\n",
      "Trainable params: 0\n",
      "Non-trainable params: 14,714,688\n",
      "_________________________________________________________________\n"
     ]
    }
   ],
   "source": [
    "base_model.summary()"
   ]
  },
  {
   "cell_type": "code",
   "execution_count": 73,
   "metadata": {
    "id": "_P96xjSPNvbE"
   },
   "outputs": [],
   "source": [
    "#Creating the Head of the model\n",
    "model = Flatten()(base_model.output)\n",
    "\n",
    "model = Dense(units=1024, activation=\"relu\")(model)\n",
    "model = Dense(units=200, activation=\"relu\")(model)\n",
    "\n",
    "prediction_layer = Dense(units=2, activation=\"softmax\")(model)"
   ]
  },
  {
   "cell_type": "code",
   "execution_count": 84,
   "metadata": {
    "id": "gO19jSZAPxKC"
   },
   "outputs": [],
   "source": [
    "model = Model(inputs= base_model.input, outputs = prediction_layer)"
   ]
  },
  {
   "cell_type": "code",
   "execution_count": 85,
   "metadata": {
    "colab": {
     "base_uri": "https://localhost:8080/"
    },
    "id": "2hUswev_Qcte",
    "outputId": "e5e7b905-fb7b-4e6a-f7a3-df82b4605cbe"
   },
   "outputs": [
    {
     "name": "stdout",
     "output_type": "stream",
     "text": [
      "Model: \"model_7\"\n",
      "_________________________________________________________________\n",
      " Layer (type)                Output Shape              Param #   \n",
      "=================================================================\n",
      " input_6 (InputLayer)        [(None, 128, 128, 3)]     0         \n",
      "                                                                 \n",
      " block1_conv1 (Conv2D)       (None, 128, 128, 64)      1792      \n",
      "                                                                 \n",
      " block1_conv2 (Conv2D)       (None, 128, 128, 64)      36928     \n",
      "                                                                 \n",
      " block1_pool (MaxPooling2D)  (None, 64, 64, 64)        0         \n",
      "                                                                 \n",
      " block2_conv1 (Conv2D)       (None, 64, 64, 128)       73856     \n",
      "                                                                 \n",
      " block2_conv2 (Conv2D)       (None, 64, 64, 128)       147584    \n",
      "                                                                 \n",
      " block2_pool (MaxPooling2D)  (None, 32, 32, 128)       0         \n",
      "                                                                 \n",
      " block3_conv1 (Conv2D)       (None, 32, 32, 256)       295168    \n",
      "                                                                 \n",
      " block3_conv2 (Conv2D)       (None, 32, 32, 256)       590080    \n",
      "                                                                 \n",
      " block3_conv3 (Conv2D)       (None, 32, 32, 256)       590080    \n",
      "                                                                 \n",
      " block3_pool (MaxPooling2D)  (None, 16, 16, 256)       0         \n",
      "                                                                 \n",
      " block4_conv1 (Conv2D)       (None, 16, 16, 512)       1180160   \n",
      "                                                                 \n",
      " block4_conv2 (Conv2D)       (None, 16, 16, 512)       2359808   \n",
      "                                                                 \n",
      " block4_conv3 (Conv2D)       (None, 16, 16, 512)       2359808   \n",
      "                                                                 \n",
      " block4_pool (MaxPooling2D)  (None, 8, 8, 512)         0         \n",
      "                                                                 \n",
      " block5_conv1 (Conv2D)       (None, 8, 8, 512)         2359808   \n",
      "                                                                 \n",
      " block5_conv2 (Conv2D)       (None, 8, 8, 512)         2359808   \n",
      "                                                                 \n",
      " block5_conv3 (Conv2D)       (None, 8, 8, 512)         2359808   \n",
      "                                                                 \n",
      " block5_pool (MaxPooling2D)  (None, 4, 4, 512)         0         \n",
      "                                                                 \n",
      " flatten_11 (Flatten)        (None, 8192)              0         \n",
      "                                                                 \n",
      " dense_32 (Dense)            (None, 1024)              8389632   \n",
      "                                                                 \n",
      " dense_33 (Dense)            (None, 200)               205000    \n",
      "                                                                 \n",
      " dense_34 (Dense)            (None, 2)                 402       \n",
      "                                                                 \n",
      "=================================================================\n",
      "Total params: 23,309,722\n",
      "Trainable params: 8,595,034\n",
      "Non-trainable params: 14,714,688\n",
      "_________________________________________________________________\n"
     ]
    }
   ],
   "source": [
    "model.summary()"
   ]
  },
  {
   "cell_type": "code",
   "execution_count": 86,
   "metadata": {
    "id": "FhmrE3biQnLb"
   },
   "outputs": [],
   "source": [
    "model.compile(optimizer='adam', loss = \"sparse_categorical_crossentropy\", metrics=[\"sparse_categorical_accuracy\"])"
   ]
  },
  {
   "cell_type": "code",
   "execution_count": 87,
   "metadata": {
    "colab": {
     "base_uri": "https://localhost:8080/"
    },
    "id": "fEZfqic5QrtU",
    "outputId": "611a8701-1462-4a82-c09d-2497233e2ed3"
   },
   "outputs": [
    {
     "name": "stderr",
     "output_type": "stream",
     "text": [
      "/usr/local/lib/python3.7/dist-packages/ipykernel_launcher.py:1: UserWarning: `Model.fit_generator` is deprecated and will be removed in a future version. Please use `Model.fit`, which supports generators.\n",
      "  \"\"\"Entry point for launching an IPython kernel.\n"
     ]
    },
    {
     "name": "stdout",
     "output_type": "stream",
     "text": [
      "Epoch 1/10\n",
      "16/16 [==============================] - 10s 593ms/step - loss: 1.4856 - sparse_categorical_accuracy: 0.6705 - val_loss: 0.4167 - val_sparse_categorical_accuracy: 0.8070\n",
      "Epoch 2/10\n",
      "16/16 [==============================] - 9s 578ms/step - loss: 0.3184 - sparse_categorical_accuracy: 0.8625 - val_loss: 0.3201 - val_sparse_categorical_accuracy: 0.8530\n",
      "Epoch 3/10\n",
      "16/16 [==============================] - 9s 586ms/step - loss: 0.2343 - sparse_categorical_accuracy: 0.8990 - val_loss: 0.3092 - val_sparse_categorical_accuracy: 0.8640\n",
      "Epoch 4/10\n",
      "16/16 [==============================] - 9s 577ms/step - loss: 0.1697 - sparse_categorical_accuracy: 0.9330 - val_loss: 0.2844 - val_sparse_categorical_accuracy: 0.8850\n",
      "Epoch 5/10\n",
      "16/16 [==============================] - 9s 550ms/step - loss: 0.1374 - sparse_categorical_accuracy: 0.9490 - val_loss: 0.3356 - val_sparse_categorical_accuracy: 0.8580\n",
      "Epoch 6/10\n",
      "16/16 [==============================] - 9s 551ms/step - loss: 0.1075 - sparse_categorical_accuracy: 0.9640 - val_loss: 0.3217 - val_sparse_categorical_accuracy: 0.8780\n",
      "Epoch 7/10\n",
      "16/16 [==============================] - 9s 552ms/step - loss: 0.0551 - sparse_categorical_accuracy: 0.9855 - val_loss: 0.3270 - val_sparse_categorical_accuracy: 0.8820\n",
      "Epoch 8/10\n",
      "16/16 [==============================] - 9s 552ms/step - loss: 0.0351 - sparse_categorical_accuracy: 0.9950 - val_loss: 0.3317 - val_sparse_categorical_accuracy: 0.8710\n",
      "Epoch 9/10\n",
      "16/16 [==============================] - 9s 552ms/step - loss: 0.0205 - sparse_categorical_accuracy: 0.9995 - val_loss: 0.3668 - val_sparse_categorical_accuracy: 0.8650\n",
      "Epoch 10/10\n",
      "16/16 [==============================] - 9s 609ms/step - loss: 0.0137 - sparse_categorical_accuracy: 1.0000 - val_loss: 0.3816 - val_sparse_categorical_accuracy: 0.8720\n"
     ]
    },
    {
     "data": {
      "text/plain": [
       "<keras.callbacks.History at 0x7f5513c26a90>"
      ]
     },
     "execution_count": 87,
     "metadata": {},
     "output_type": "execute_result"
    }
   ],
   "source": [
    "model.fit_generator(train_gen, epochs=10, validation_data=valid_gen)\n"
   ]
  },
  {
   "cell_type": "code",
   "execution_count": null,
   "metadata": {
    "id": "3wDA4_MgRyvs"
   },
   "outputs": [],
   "source": []
  },
  {
   "cell_type": "code",
   "execution_count": 88,
   "metadata": {
    "colab": {
     "base_uri": "https://localhost:8080/",
     "height": 353
    },
    "id": "xn81JFmTQxHb",
    "outputId": "54b14c91-6faf-4d81-b1e7-98a4a79e285c"
   },
   "outputs": [
    {
     "data": {
      "text/plain": [
       "Text(0.5, 1.0, 'Training-Validation Accuracy')"
      ]
     },
     "execution_count": 88,
     "metadata": {},
     "output_type": "execute_result"
    },
    {
     "data": {
      "image/png": "[encoded data removed]",
      "text/plain": [
       "<Figure size 1080x360 with 2 Axes>"
      ]
     },
     "metadata": {
      "needs_background": "light"
     },
     "output_type": "display_data"
    }
   ],
   "source": [
    "#saving the losses\n",
    "loss = pd.DataFrame(model.history.history)\n",
    "\n",
    "#plotting the loss and accuracy\n",
    "plt.figure(figsize=(15,5))\n",
    "\n",
    "plt.subplot(1,2,1)\n",
    "plt.plot(loss[\"loss\"], label =\"Loss\")\n",
    "plt.plot(loss[\"val_loss\"], label = \"Validation_loss\")\n",
    "plt.legend()\n",
    "plt.title(\"Training and Validation Loss\")\n",
    "\n",
    "plt.subplot(1,2,2)\n",
    "plt.plot(loss['sparse_categorical_accuracy'],label = \"Training Accuracy\")\n",
    "plt.plot(loss['val_sparse_categorical_accuracy'], label =\"Validation_ Accuracy \")\n",
    "plt.legend()\n",
    "plt.title(\"Training-Validation Accuracy\")"
   ]
  },
  {
   "cell_type": "code",
   "execution_count": 89,
   "metadata": {
    "id": "okj3NHy7Q4hM"
   },
   "outputs": [],
   "source": [
    "# Transfer learning Using Resnet50 architecture\n"
   ]
  },
  {
   "cell_type": "code",
   "execution_count": 90,
   "metadata": {
    "colab": {
     "base_uri": "https://localhost:8080/"
    },
    "id": "KliHvAyrRQi_",
    "outputId": "0d106cb4-c107-4b1f-bfd7-b885cbf3d342"
   },
   "outputs": [
    {
     "name": "stdout",
     "output_type": "stream",
     "text": [
      "Downloading data from https://storage.googleapis.com/tensorflow/keras-applications/resnet/resnet50_weights_tf_dim_ordering_tf_kernels_notop.h5\n",
      "94773248/94765736 [==============================] - 1s 0us/step\n",
      "94781440/94765736 [==============================] - 1s 0us/step\n"
     ]
    }
   ],
   "source": [
    "# Building the body of the model Using Resnet50\n",
    "base_model = tf.keras.applications.ResNet50(input_shape=(128,128,3), weights=\"imagenet\", include_top=False)\n",
    "\n",
    "#freaaxing the layer\n",
    "for layer in base_model.layers:\n",
    "  layer.trainable= False"
   ]
  },
  {
   "cell_type": "code",
   "execution_count": 91,
   "metadata": {
    "id": "77ZwpRFyRdzG"
   },
   "outputs": [],
   "source": [
    "#Creating the Head of the model\n",
    "model = Flatten()(base_model.output)\n",
    "\n",
    "model = Dense(units=1024, activation=\"relu\")(model)\n",
    "model = Dense(units=200, activation=\"relu\")(model)\n",
    "\n",
    "prediction_layer = Dense(units=2, activation=\"softmax\")(model)"
   ]
  },
  {
   "cell_type": "code",
   "execution_count": 92,
   "metadata": {
    "id": "VO6gy33SRlQJ"
   },
   "outputs": [],
   "source": [
    "model = Model(inputs= base_model.input, outputs = prediction_layer)"
   ]
  },
  {
   "cell_type": "code",
   "execution_count": 93,
   "metadata": {
    "id": "G2cz0HnTRpLD"
   },
   "outputs": [],
   "source": [
    "model.compile(optimizer='adam', loss = \"sparse_categorical_crossentropy\", metrics=[\"sparse_categorical_accuracy\"])"
   ]
  },
  {
   "cell_type": "code",
   "execution_count": 94,
   "metadata": {
    "colab": {
     "base_uri": "https://localhost:8080/"
    },
    "id": "WlVYzI3ZR0M7",
    "outputId": "9d920911-1051-4405-ef89-c2b20494f273"
   },
   "outputs": [
    {
     "name": "stderr",
     "output_type": "stream",
     "text": [
      "/usr/local/lib/python3.7/dist-packages/ipykernel_launcher.py:1: UserWarning: `Model.fit_generator` is deprecated and will be removed in a future version. Please use `Model.fit`, which supports generators.\n",
      "  \"\"\"Entry point for launching an IPython kernel.\n"
     ]
    },
    {
     "name": "stdout",
     "output_type": "stream",
     "text": [
      "Epoch 1/10\n",
      "16/16 [==============================] - 16s 777ms/step - loss: 1.0549 - sparse_categorical_accuracy: 0.5395 - val_loss: 0.6707 - val_sparse_categorical_accuracy: 0.5800\n",
      "Epoch 2/10\n",
      "16/16 [==============================] - 9s 537ms/step - loss: 0.6673 - sparse_categorical_accuracy: 0.5765 - val_loss: 0.6528 - val_sparse_categorical_accuracy: 0.6010\n",
      "Epoch 3/10\n",
      "16/16 [==============================] - 9s 560ms/step - loss: 0.6490 - sparse_categorical_accuracy: 0.6240 - val_loss: 0.6440 - val_sparse_categorical_accuracy: 0.6080\n",
      "Epoch 4/10\n",
      "16/16 [==============================] - 8s 529ms/step - loss: 0.6322 - sparse_categorical_accuracy: 0.6365 - val_loss: 0.6366 - val_sparse_categorical_accuracy: 0.6190\n",
      "Epoch 5/10\n",
      "16/16 [==============================] - 8s 530ms/step - loss: 0.6309 - sparse_categorical_accuracy: 0.6370 - val_loss: 0.6347 - val_sparse_categorical_accuracy: 0.6330\n",
      "Epoch 6/10\n",
      "16/16 [==============================] - 10s 627ms/step - loss: 0.6039 - sparse_categorical_accuracy: 0.6570 - val_loss: 0.6681 - val_sparse_categorical_accuracy: 0.5880\n",
      "Epoch 7/10\n",
      "16/16 [==============================] - 9s 551ms/step - loss: 0.5872 - sparse_categorical_accuracy: 0.6895 - val_loss: 0.6174 - val_sparse_categorical_accuracy: 0.6450\n",
      "Epoch 8/10\n",
      "16/16 [==============================] - 9s 553ms/step - loss: 0.5763 - sparse_categorical_accuracy: 0.6865 - val_loss: 0.5999 - val_sparse_categorical_accuracy: 0.6670\n",
      "Epoch 9/10\n",
      "16/16 [==============================] - 9s 592ms/step - loss: 0.5951 - sparse_categorical_accuracy: 0.6645 - val_loss: 0.5874 - val_sparse_categorical_accuracy: 0.6860\n",
      "Epoch 10/10\n",
      "16/16 [==============================] - 10s 607ms/step - loss: 0.5594 - sparse_categorical_accuracy: 0.7030 - val_loss: 0.6088 - val_sparse_categorical_accuracy: 0.6580\n"
     ]
    },
    {
     "data": {
      "text/plain": [
       "<keras.callbacks.History at 0x7f55126f4710>"
      ]
     },
     "execution_count": 94,
     "metadata": {},
     "output_type": "execute_result"
    }
   ],
   "source": [
    "model.fit_generator(train_gen, epochs=10, validation_data=valid_gen)"
   ]
  },
  {
   "cell_type": "code",
   "execution_count": 95,
   "metadata": {
    "colab": {
     "base_uri": "https://localhost:8080/",
     "height": 353
    },
    "id": "up90yfv0R1qt",
    "outputId": "3b5d7fcd-4c34-47e5-e4c3-17b809455f32"
   },
   "outputs": [
    {
     "data": {
      "text/plain": [
       "Text(0.5, 1.0, 'Training-Validation Accuracy')"
      ]
     },
     "execution_count": 95,
     "metadata": {},
     "output_type": "execute_result"
    },
    {
     "data": {
      "image/png": "[encoded data removed]",
      "text/plain": [
       "<Figure size 1080x360 with 2 Axes>"
      ]
     },
     "metadata": {
      "needs_background": "light"
     },
     "output_type": "display_data"
    }
   ],
   "source": [
    "#saving the losses\n",
    "loss = pd.DataFrame(model.history.history)\n",
    "\n",
    "#plotting the loss and accuracy\n",
    "plt.figure(figsize=(15,5))\n",
    "\n",
    "plt.subplot(1,2,1)\n",
    "plt.plot(loss[\"loss\"], label =\"Loss\")\n",
    "plt.plot(loss[\"val_loss\"], label = \"Validation_loss\")\n",
    "plt.legend()\n",
    "plt.title(\"Training and Validation Loss\")\n",
    "\n",
    "plt.subplot(1,2,2)\n",
    "plt.plot(loss['sparse_categorical_accuracy'],label = \"Training Accuracy\")\n",
    "plt.plot(loss['val_sparse_categorical_accuracy'], label =\"Validation_ Accuracy \")\n",
    "plt.legend()\n",
    "plt.title(\"Training-Validation Accuracy\")"
   ]
  },
  {
   "cell_type": "code",
   "execution_count": 96,
   "metadata": {
    "id": "9RDXTD6GR5i5"
   },
   "outputs": [],
   "source": [
    "# # Transfer learning Using InceptionV3 architecture"
   ]
  },
  {
   "cell_type": "code",
   "execution_count": 105,
   "metadata": {
    "colab": {
     "base_uri": "https://localhost:8080/"
    },
    "id": "J9lbqX8rSE2j",
    "outputId": "49d4ea94-eaf6-4b6c-934c-44bd0925b60a"
   },
   "outputs": [
    {
     "name": "stdout",
     "output_type": "stream",
     "text": [
      "Downloading data from https://storage.googleapis.com/tensorflow/keras-applications/inception_v3/inception_v3_weights_tf_dim_ordering_tf_kernels_notop.h5\n",
      "87916544/87910968 [==============================] - 1s 0us/step\n",
      "87924736/87910968 [==============================] - 1s 0us/step\n"
     ]
    }
   ],
   "source": [
    "# Building the body of the model Using Inception v3\n",
    "base_model = tf.keras.applications.InceptionV3(input_shape=(128,128,3), weights=\"imagenet\", include_top=False)\n",
    "\n",
    "#freaaxing the layer\n",
    "for layer in base_model.layers:\n",
    "  layer.trainable= False"
   ]
  },
  {
   "cell_type": "code",
   "execution_count": 106,
   "metadata": {
    "id": "2hxPfy_dSOqD"
   },
   "outputs": [],
   "source": [
    "#Creating the Head of the model\n",
    "model = Flatten()(base_model.output)\n",
    "\n",
    "model = Dense(units=1024, activation=\"relu\")(model)\n",
    "model = Dense(units=200, activation=\"relu\")(model)\n",
    "\n",
    "prediction_layer = Dense(units=2, activation=\"softmax\")(model)"
   ]
  },
  {
   "cell_type": "code",
   "execution_count": 107,
   "metadata": {
    "id": "4eKl_E7tSWIS"
   },
   "outputs": [],
   "source": [
    "model = Model(inputs= base_model.input, outputs = prediction_layer)"
   ]
  },
  {
   "cell_type": "code",
   "execution_count": 108,
   "metadata": {
    "id": "wgyg9bFGSaVp"
   },
   "outputs": [],
   "source": [
    "model.compile(optimizer='adam', loss = \"sparse_categorical_crossentropy\", metrics=[\"sparse_categorical_accuracy\"])"
   ]
  },
  {
   "cell_type": "code",
   "execution_count": 109,
   "metadata": {
    "colab": {
     "base_uri": "https://localhost:8080/"
    },
    "id": "K2ynD9loSgTz",
    "outputId": "6f7189e9-58cc-4abe-e37a-f8b58b9843bb"
   },
   "outputs": [
    {
     "name": "stderr",
     "output_type": "stream",
     "text": [
      "/usr/local/lib/python3.7/dist-packages/ipykernel_launcher.py:1: UserWarning: `Model.fit_generator` is deprecated and will be removed in a future version. Please use `Model.fit`, which supports generators.\n",
      "  \"\"\"Entry point for launching an IPython kernel.\n"
     ]
    },
    {
     "name": "stdout",
     "output_type": "stream",
     "text": [
      "Epoch 1/10\n",
      "16/16 [==============================] - 18s 800ms/step - loss: 8.6457 - sparse_categorical_accuracy: 0.6195 - val_loss: 0.6026 - val_sparse_categorical_accuracy: 0.8650\n",
      "Epoch 2/10\n",
      "16/16 [==============================] - 8s 521ms/step - loss: 0.7213 - sparse_categorical_accuracy: 0.8805 - val_loss: 0.6598 - val_sparse_categorical_accuracy: 0.8920\n",
      "Epoch 3/10\n",
      "16/16 [==============================] - 8s 528ms/step - loss: 0.3528 - sparse_categorical_accuracy: 0.9145 - val_loss: 0.3432 - val_sparse_categorical_accuracy: 0.9080\n",
      "Epoch 4/10\n",
      "16/16 [==============================] - 8s 521ms/step - loss: 0.2419 - sparse_categorical_accuracy: 0.9295 - val_loss: 0.2682 - val_sparse_categorical_accuracy: 0.9130\n",
      "Epoch 5/10\n",
      "16/16 [==============================] - 8s 512ms/step - loss: 0.1350 - sparse_categorical_accuracy: 0.9495 - val_loss: 0.2141 - val_sparse_categorical_accuracy: 0.9170\n",
      "Epoch 6/10\n",
      "16/16 [==============================] - 8s 513ms/step - loss: 0.0993 - sparse_categorical_accuracy: 0.9580 - val_loss: 0.2098 - val_sparse_categorical_accuracy: 0.9140\n",
      "Epoch 7/10\n",
      "16/16 [==============================] - 8s 510ms/step - loss: 0.0977 - sparse_categorical_accuracy: 0.9620 - val_loss: 0.1936 - val_sparse_categorical_accuracy: 0.9170\n",
      "Epoch 8/10\n",
      "16/16 [==============================] - 8s 522ms/step - loss: 0.0741 - sparse_categorical_accuracy: 0.9705 - val_loss: 0.1928 - val_sparse_categorical_accuracy: 0.9170\n",
      "Epoch 9/10\n",
      "16/16 [==============================] - 8s 521ms/step - loss: 0.0701 - sparse_categorical_accuracy: 0.9745 - val_loss: 0.2072 - val_sparse_categorical_accuracy: 0.9180\n",
      "Epoch 10/10\n",
      "16/16 [==============================] - 8s 518ms/step - loss: 0.0563 - sparse_categorical_accuracy: 0.9805 - val_loss: 0.2567 - val_sparse_categorical_accuracy: 0.9060\n"
     ]
    },
    {
     "data": {
      "text/plain": [
       "<keras.callbacks.History at 0x7f550f50a050>"
      ]
     },
     "execution_count": 109,
     "metadata": {},
     "output_type": "execute_result"
    }
   ],
   "source": [
    "model.fit_generator(train_gen, epochs=10, validation_data=valid_gen)"
   ]
  },
  {
   "cell_type": "code",
   "execution_count": 110,
   "metadata": {
    "colab": {
     "base_uri": "https://localhost:8080/",
     "height": 353
    },
    "id": "3ycXeepLSjxp",
    "outputId": "9859885c-3dec-409c-e0f8-064bea2e324b"
   },
   "outputs": [
    {
     "data": {
      "text/plain": [
       "Text(0.5, 1.0, 'Training-Validation Accuracy')"
      ]
     },
     "execution_count": 110,
     "metadata": {},
     "output_type": "execute_result"
    },
    {
     "data": {
      "image/png": "[encoded data removed]",
      "text/plain": [
       "<Figure size 1080x360 with 2 Axes>"
      ]
     },
     "metadata": {
      "needs_background": "light"
     },
     "output_type": "display_data"
    }
   ],
   "source": [
    "#saving the losses\n",
    "loss = pd.DataFrame(model.history.history)\n",
    "\n",
    "#plotting the loss and accuracy\n",
    "plt.figure(figsize=(15,5))\n",
    "\n",
    "plt.subplot(1,2,1)\n",
    "plt.plot(loss[\"loss\"], label =\"Loss\")\n",
    "plt.plot(loss[\"val_loss\"], label = \"Validation_loss\")\n",
    "plt.legend()\n",
    "plt.title(\"Training and Validation Loss\")\n",
    "\n",
    "plt.subplot(1,2,2)\n",
    "plt.plot(loss['sparse_categorical_accuracy'],label = \"Training Accuracy\")\n",
    "plt.plot(loss['val_sparse_categorical_accuracy'], label =\"Validation_ Accuracy \")\n",
    "plt.legend()\n",
    "plt.title(\"Training-Validation Accuracy\")"
   ]
  },
  {
   "cell_type": "code",
   "execution_count": 111,
   "metadata": {
    "id": "drUy7WuxSrVt"
   },
   "outputs": [],
   "source": [
    "# # Transfer learning Using MobileNetV2 architecture\n",
    "\n"
   ]
  },
  {
   "cell_type": "code",
   "execution_count": 118,
   "metadata": {
    "id": "1f_O5-yTS0Pq"
   },
   "outputs": [],
   "source": [
    "# Building the body of the model Using MobileNetV2\n",
    "base_model = tf.keras.applications.MobileNetV2(input_shape=(128,128,3), weights=\"imagenet\", include_top=False)\n",
    "\n",
    "#freaaxing the layer\n",
    "for layer in base_model.layers:\n",
    "  layer.trainable= False"
   ]
  },
  {
   "cell_type": "code",
   "execution_count": 119,
   "metadata": {
    "id": "EoHBfLHXTTZB"
   },
   "outputs": [],
   "source": [
    "#Creating the Head of the model\n",
    "model = Flatten()(base_model.output)\n",
    "\n",
    "model = Dense(units=1024, activation=\"relu\")(model)\n",
    "model = Dense(units=200, activation=\"relu\")(model)\n",
    "\n",
    "prediction_layer = Dense(units=2, activation=\"softmax\")(model)"
   ]
  },
  {
   "cell_type": "code",
   "execution_count": 120,
   "metadata": {
    "id": "F85gn1LxTf1l"
   },
   "outputs": [],
   "source": [
    "model = Model(inputs= base_model.input, outputs = prediction_layer)"
   ]
  },
  {
   "cell_type": "code",
   "execution_count": 121,
   "metadata": {
    "id": "bxRUZGy4Tk5w"
   },
   "outputs": [],
   "source": [
    "model.compile(optimizer='adam', loss = \"sparse_categorical_crossentropy\", metrics=[\"sparse_categorical_accuracy\"])"
   ]
  },
  {
   "cell_type": "code",
   "execution_count": 117,
   "metadata": {
    "colab": {
     "base_uri": "https://localhost:8080/"
    },
    "id": "vm-ux1H8TpPy",
    "outputId": "60c1649b-5c09-440e-e408-0c57e64c210a"
   },
   "outputs": [
    {
     "name": "stderr",
     "output_type": "stream",
     "text": [
      "/usr/local/lib/python3.7/dist-packages/ipykernel_launcher.py:1: UserWarning: `Model.fit_generator` is deprecated and will be removed in a future version. Please use `Model.fit`, which supports generators.\n",
      "  \"\"\"Entry point for launching an IPython kernel.\n"
     ]
    },
    {
     "name": "stdout",
     "output_type": "stream",
     "text": [
      "Epoch 1/10\n",
      "16/16 [==============================] - 12s 580ms/step - loss: 1.2315 - sparse_categorical_accuracy: 0.8830 - val_loss: 0.3001 - val_sparse_categorical_accuracy: 0.9440\n",
      "Epoch 2/10\n",
      "16/16 [==============================] - 8s 489ms/step - loss: 0.1220 - sparse_categorical_accuracy: 0.9695 - val_loss: 0.1774 - val_sparse_categorical_accuracy: 0.9670\n",
      "Epoch 3/10\n",
      "16/16 [==============================] - 8s 494ms/step - loss: 0.0672 - sparse_categorical_accuracy: 0.9825 - val_loss: 0.1426 - val_sparse_categorical_accuracy: 0.9710\n",
      "Epoch 4/10\n",
      "16/16 [==============================] - 8s 505ms/step - loss: 0.0264 - sparse_categorical_accuracy: 0.9920 - val_loss: 0.2361 - val_sparse_categorical_accuracy: 0.9680\n",
      "Epoch 5/10\n",
      "16/16 [==============================] - 8s 495ms/step - loss: 0.0059 - sparse_categorical_accuracy: 0.9980 - val_loss: 0.1849 - val_sparse_categorical_accuracy: 0.9760\n",
      "Epoch 6/10\n",
      "16/16 [==============================] - 8s 498ms/step - loss: 0.0066 - sparse_categorical_accuracy: 0.9980 - val_loss: 0.1793 - val_sparse_categorical_accuracy: 0.9750\n",
      "Epoch 7/10\n",
      "16/16 [==============================] - 8s 502ms/step - loss: 0.0031 - sparse_categorical_accuracy: 0.9990 - val_loss: 0.2534 - val_sparse_categorical_accuracy: 0.9700\n",
      "Epoch 8/10\n",
      "16/16 [==============================] - 8s 495ms/step - loss: 4.4258e-04 - sparse_categorical_accuracy: 1.0000 - val_loss: 0.2454 - val_sparse_categorical_accuracy: 0.9710\n",
      "Epoch 9/10\n",
      "16/16 [==============================] - 8s 499ms/step - loss: 5.8508e-05 - sparse_categorical_accuracy: 1.0000 - val_loss: 0.2485 - val_sparse_categorical_accuracy: 0.9690\n",
      "Epoch 10/10\n",
      "16/16 [==============================] - 8s 499ms/step - loss: 1.9182e-05 - sparse_categorical_accuracy: 1.0000 - val_loss: 0.2402 - val_sparse_categorical_accuracy: 0.9700\n"
     ]
    },
    {
     "data": {
      "text/plain": [
       "<keras.callbacks.History at 0x7f550e3751d0>"
      ]
     },
     "execution_count": 117,
     "metadata": {},
     "output_type": "execute_result"
    }
   ],
   "source": [
    "model.fit_generator(train_gen, epochs=10, validation_data=valid_gen)"
   ]
  },
  {
   "cell_type": "code",
   "execution_count": 130,
   "metadata": {
    "colab": {
     "base_uri": "https://localhost:8080/",
     "height": 353
    },
    "id": "FPBuoIV5TtVB",
    "outputId": "0a9e55be-6aa0-466c-c311-05f52fc7c792"
   },
   "outputs": [
    {
     "data": {
      "text/plain": [
       "Text(0.5, 1.0, 'Training-Validation Accuracy')"
      ]
     },
     "execution_count": 130,
     "metadata": {},
     "output_type": "execute_result"
    },
    {
     "data": {
      "image/png": "[encoded data removed]",
      "text/plain": [
       "<Figure size 1080x360 with 2 Axes>"
      ]
     },
     "metadata": {
      "needs_background": "light"
     },
     "output_type": "display_data"
    }
   ],
   "source": [
    "#saving the losses\n",
    "#loss = pd.DataFrame(model.history.history)\n",
    "\n",
    "#plotting the loss and accuracy\n",
    "plt.figure(figsize=(15,5))\n",
    "\n",
    "plt.subplot(1,2,1)\n",
    "plt.plot(loss[\"loss\"], label =\"Loss\")\n",
    "plt.plot(loss[\"val_loss\"], label = \"Validation_loss\")\n",
    "plt.legend()\n",
    "plt.title(\"Training and Validation Loss\")\n",
    "\n",
    "plt.subplot(1,2,2)\n",
    "plt.plot(loss['sparse_categorical_accuracy'],label = \"Training Accuracy\")\n",
    "plt.plot(loss['val_sparse_categorical_accuracy'], label =\"Validation_ Accuracy \")\n",
    "plt.legend()\n",
    "plt.title(\"Training-Validation Accuracy\")\n"
   ]
  },
  {
   "cell_type": "code",
   "execution_count": null,
   "metadata": {
    "id": "8V1ZiGscUO0r"
   },
   "outputs": [],
   "source": []
  }
 ],
 "metadata": {
  "accelerator": "GPU",
  "colab": {
   "collapsed_sections": [],
   "provenance": []
  },
  "kernelspec": {
   "display_name": "Python 3 (ipykernel)",
   "language": "python",
   "name": "python3"
  },
  "language_info": {
   "codemirror_mode": {
    "name": "ipython",
    "version": 3
   },
   "file_extension": ".py",
   "mimetype": "text/x-python",
   "name": "python",
   "nbconvert_exporter": "python",
   "pygments_lexer": "ipython3",
   "version": "3.9.12"
  }
 },
 "nbformat": 4,
 "nbformat_minor": 1
}
